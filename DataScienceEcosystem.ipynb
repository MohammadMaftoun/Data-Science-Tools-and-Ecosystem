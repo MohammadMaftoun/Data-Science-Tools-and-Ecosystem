{
  "cells": [
    {
      "cell_type": "markdown",
      "metadata": {
        "id": "F4dXuivmT6eZ"
      },
      "source": [
        "<h1>Data Science Tools and Ecosystem</h1>"
      ]
    },
    {
      "cell_type": "markdown",
      "metadata": {
        "id": "LRGUWFb8T6ec"
      },
      "source": [
        "In this notebook, Data Science Tools and Ecosystem are summarized.\n",
        "\n"
      ]
    },
    {
      "cell_type": "markdown",
      "source": [
        "**Objectives:**\n",
        "\n",
        "\n",
        "* List of popular languages that Data Scientists use.\n",
        "* List of commonly used libraries used by Data Scientists.\n",
        "* List of Data Science tools.\n",
        "* Some examples in Python with comments.\n",
        "\n"
      ],
      "metadata": {
        "id": "gwHiJaQvx-sl"
      }
    },
    {
      "cell_type": "markdown",
      "source": [
        "<h1>Some of the popular languages that Data Scientists use are:</h1>"
      ],
      "metadata": {
        "id": "fqJfQrnDWmFk"
      }
    },
    {
      "cell_type": "markdown",
      "source": [
        "\n",
        "\n",
        "*   Python\n",
        "*   R\n",
        "*   SQL\n",
        "*   Julia\n",
        "*   Java Script\n",
        "\n",
        "\n"
      ],
      "metadata": {
        "id": "J-1xbzy2W3KL"
      }
    },
    {
      "cell_type": "markdown",
      "source": [
        "<h1>Some of the commonly used libraries used by Data Scientists include:</h1>"
      ],
      "metadata": {
        "id": "Jk8ZihFZW3XI"
      }
    },
    {
      "cell_type": "markdown",
      "source": [
        "\n",
        "\n",
        "1.   Pandas\n",
        "2.   Numpy\n",
        "3.   Matplotlib and Seaborn\n",
        "4.   Scikit-Learn\n",
        "5.   Tensorflow\n",
        "6.   Keras\n",
        "\n",
        "\n"
      ],
      "metadata": {
        "id": "J2aUwNzsW3Z6"
      }
    },
    {
      "cell_type": "markdown",
      "source": [
        "| Data Science Tools |\n",
        "| --- |\n",
        "| 1. IDEs: Vs code , Rstudio , Google colab  |\n",
        "| 2. Softwares: Weka , Knime , Orange |\n",
        "| 3. Version control system: Git |\n"
      ],
      "metadata": {
        "id": "IJefykr6YEpl"
      }
    },
    {
      "cell_type": "markdown",
      "source": [
        "<h3>Below are a few examples of evaluating arithmetic expressions in Python</h3>\n",
        "\n",
        "\n"
      ],
      "metadata": {
        "id": "dKIQrcOIcX0y"
      }
    },
    {
      "cell_type": "code",
      "source": [
        "first_num = 32\n",
        "second_num = 26\n",
        "sum = first_num + second_num\n",
        "print(sum)"
      ],
      "metadata": {
        "colab": {
          "base_uri": "https://localhost:8080/"
        },
        "id": "tyaNvNOdYDxA",
        "outputId": "0a1f816d-6ecd-43d7-aa82-4db101ce9b78"
      },
      "execution_count": null,
      "outputs": [
        {
          "output_type": "stream",
          "name": "stdout",
          "text": [
            "58\n"
          ]
        }
      ]
    },
    {
      "cell_type": "code",
      "source": [
        "# This a simple arithmetic expression to mutiply then add integers\n",
        "(3*4)+5\n",
        "#result = 17"
      ],
      "metadata": {
        "colab": {
          "base_uri": "https://localhost:8080/"
        },
        "id": "T8nYIKR1czuQ",
        "outputId": "9697ace8-fb84-4d8d-c012-9a007dbcb70b"
      },
      "execution_count": null,
      "outputs": [
        {
          "output_type": "execute_result",
          "data": {
            "text/plain": [
              "17"
            ]
          },
          "metadata": {},
          "execution_count": 2
        }
      ]
    },
    {
      "cell_type": "code",
      "source": [
        "# This will convert 200 minutes to hours by diving by 60\n",
        "minutes = 200\n",
        "\n",
        "print(\"In hours :\" ,minutes/60)"
      ],
      "metadata": {
        "colab": {
          "base_uri": "https://localhost:8080/"
        },
        "id": "T01LnVrMdQey",
        "outputId": "ceaab308-7a0c-4a70-f075-5c3cc31a3ea9"
      },
      "execution_count": null,
      "outputs": [
        {
          "output_type": "stream",
          "name": "stdout",
          "text": [
            "In hours : 3.3333333333333335\n"
          ]
        }
      ]
    },
    {
      "cell_type": "markdown",
      "source": [
        "<h2>AUTHOR: Mohammad Maftoun</h2>"
      ],
      "metadata": {
        "id": "72td5f5HfR29"
      }
    }
  ],
  "metadata": {
    "language_info": {
      "name": "python"
    },
    "orig_nbformat": 4,
    "colab": {
      "provenance": []
    },
    "kernelspec": {
      "name": "python3",
      "display_name": "Python 3"
    }
  },
  "nbformat": 4,
  "nbformat_minor": 0
}